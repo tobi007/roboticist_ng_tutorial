{
 "cells": [
  {
   "cell_type": "markdown",
   "metadata": {},
   "source": [
    "<img src=\"Roboticist.png\">\n",
    "\n",
    "\n",
    "# WHAT IS ROBOTICS?\n",
    "\n",
    "Word robot was coined by a Czech novelist Karel Capek in a 1920 play titled Rassum's Universal Robots (RUR)\n",
    "\n",
    "Robot   in   Czech   is   a   word   for   \n",
    "worker or servant \n",
    "\n",
    "\n",
    "Robotics is an interdisciplinary branch of engineering and science that includes mechanical engineering, electrical engineering, computer science, and others. Robotics deals with the design, construction, operation, and use of robots, as well as computer systems for their control, sensory feedback, and information processing.\n",
    "                                                                    \n",
    "                                                                    -- From Wikipedia, the free encyclopedia\n",
    "                                                                    \n",
    "Robotics is the study of robots. Robots are machines that can be used to do jobs. Some robots can do work by themselves. Other robots must always have a person telling them what to do.\n",
    "\n",
    "                                                                    -- Nasa\n",
    "                                                                    \n",
    "A robot is a **reprogrammable**, **multifunctional**, manipulator designed to move material, parts, tools or specialized devices through variable programmed motions for the performance of a variety of tasks:\n",
    "\n",
    "                                                                    -- Robot Institute of America, 1979\n",
    "\n",
    "\n",
    "Word robot was coined by a Czech novelist Karel Capek in a 1920 play titled Rassum's Universal Robots (RUR)\n",
    "\n",
    "- Robot in Czech is a word for worker or servant \n",
    "\n",
    "![title](io_robotics.png \"FLOW OF PROCESS IN ROBOTICS\")\n",
    "\n",
    "### WHY DO WE NEED ROBOTICS OR WHY USE A ROBOT\n",
    "\n",
    "- To do the 3 D jobs (Dirty, Dangerous, demanding).\n",
    "Repetitive jobs that are boring, stressful, or labor- intensive for humans.\n",
    "\n",
    "### LAWS OF ROBOTICS\n",
    "\n",
    "The Three Laws, quoted as being from the \"Handbook of Robotics, 56th Edition, 2058 A.D.\", are:\n",
    "\n",
    "   1. A robot may not injure a human being or, through inaction, allow a human being to come to harm.\n",
    "   2. A robot must obey the orders given it by human beings except where such orders would conflict with the First Law.\n",
    "   3. A robot must protect its own existence as long as such protection does not conflict with the First or Second Laws.\n",
    "   \n",
    "### HISTORY OF ROBOTS\n",
    "\n",
    "Refer to this link for hitory of robots (https://en.wikipedia.org/wiki/History_of_robots).\n",
    "\n",
    "### WHAT YOU SHOULD KNOW\n",
    "\n",
    "Robotics spans multiple scientific and engineering disciplines, so when you want to design a better robot you should get some basic knowledge in these fields. How much you should learn depends on how complex you want to make your robot.\n",
    "You don't need to know everything about all of these subjects, however knowing the basics of each of these fields can help in building better robots and prevent you from making (some of the) beginner's mistakes.\n",
    "\n",
    "    1. Mechanics\n",
    "    2. Electronics\n",
    "    3. Programming\n",
    "    4. Solid Mechanics\n",
    "    5. A.I.\n",
    "    6. Math\n",
    "    \n",
    "### TYPES OF ROBOTS\n",
    "\n",
    "    1. Manipulator\n",
    "    2. Legged Robot\n",
    "    3. Wheeled Robot\n",
    "    4. Autonomous Underwater Vehicle (AUV)\n",
    "    5. Unmanned Aerial Vehicle (UAV)"
   ]
  },
  {
   "cell_type": "markdown",
   "metadata": {},
   "source": [
    "https://blog.robotiq.com/3-reasons-people-are-afraid-of-robots-and-why-they-shouldnt-be\n",
    "http://theconversation.com/five-reasons-to-teach-robotics-in-schools-49357\n",
    "https://www.elprocus.com/robots-types-applications/\n",
    "https://www.robotshop.com/blog/en/why-do-we-need-robots-artificial-intelligence-20635\n",
    "http://engineering.nyu.edu/mechatronics/smart/pdf/Intro2Robotics.pdf\n",
    "https://en.wikipedia.org/wiki/Three_Laws_of_Robotics\n",
    "https://en.wikibooks.org/wiki/Robotics/Design_Basics/What_you_should_know"
   ]
  },
  {
   "cell_type": "code",
   "execution_count": null,
   "metadata": {
    "collapsed": true
   },
   "outputs": [],
   "source": []
  }
 ],
 "metadata": {
  "kernelspec": {
   "display_name": "Python 3",
   "language": "python",
   "name": "python3"
  },
  "language_info": {
   "codemirror_mode": {
    "name": "ipython",
    "version": 3
   },
   "file_extension": ".py",
   "mimetype": "text/x-python",
   "name": "python",
   "nbconvert_exporter": "python",
   "pygments_lexer": "ipython3",
   "version": "3.6.3"
  }
 },
 "nbformat": 4,
 "nbformat_minor": 2
}
